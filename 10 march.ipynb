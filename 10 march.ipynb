{
 "cells": [
  {
   "cell_type": "code",
   "execution_count": 1,
   "id": "236bae8b-b971-4dcb-be6d-33610c7da9b5",
   "metadata": {},
   "outputs": [],
   "source": [
    "# Q1: What is Estimation Statistics? Explain point estimate and interval estimate.\n",
    "\n",
    "# Q2. Write a Python function to estimate the population mean using a sample mean and standard \n",
    "# deviation.\n",
    "\n",
    "# Q3: What is Hypothesis testing? Why is it used? State the importance of Hypothesis testing.\n",
    "\n",
    "# Q4. Create a hypothesis that states whether the average weight of male college students is greater than \n",
    "# the average weight of female college students.\n",
    "\n",
    "# Q5. Write a Python script to conduct a hypothesis test on the difference between two population means, \n",
    "# given a sample from each population.\n",
    "\n",
    "# Q6: What is a null and alternative hypothesis? Give some examples.\n",
    "\n",
    "# Q7: Write down the steps involved in hypothesis testing.\n",
    "\n",
    "# Q8. Define p-value and explain its significance in hypothesis testing.\n",
    "\n",
    "# Q9. Generate a Student's t-distribution plot using Python's matplotlib library, with the degrees of freedom \n",
    "# parameter set to 10.\n",
    "\n",
    "# Q10. Write a Python program to calculate the two-sample t-test for independent samples, given two \n",
    "# random samples of equal size and a null hypothesis that the population means are equal.\n",
    "\n",
    "# Q11: What is Student’s t distribution? When to use the t-Distribution.\n",
    "\n",
    "# Q12: What is t-statistic? State the formula for t-statistic.\n",
    "\n",
    "# Q13. A coffee shop owner wants to estimate the average daily revenue for their shop. They take a random \n",
    "# sample of 50 days and find the sample mean revenue to be $500 with a standard deviation of $50. \n",
    "# Estimate the population mean revenue with a 95% confidence interval.\n",
    "\n",
    "# Q14. A researcher hypothesizes that a new drug will decrease blood pressure by 10 mmHg. They conduct a \n",
    "# clinical trial with 100 patients and find that the sample mean decrease in blood pressure is 8 mmHg with a \n",
    "# standard deviation of 3 mmHg. Test the hypothesis with a significance level of 0.05.\n",
    "\n",
    "# Q15. An electronics company produces a certain type of product with a mean weight of 5 pounds and a \n",
    "# standard deviation of 0.5 pounds. A random sample of 25 products is taken, and the sample mean weight \n",
    "# is found to be 4.8 pounds. Test the hypothesis that the true mean weight of the products is less than 5 \n",
    "# pounds with a significance level of 0.01.\n",
    "\n",
    "# Q16. Two groups of students are given different study materials to prepare for a test. The first group (n1 = \n",
    "# 30) has a mean score of 80 with a standard deviation of 10, and the second group (n2 = 40) has a mean \n",
    "# score of 75 with a standard deviation of 8. Test the hypothesis that the population means for the two \n",
    "# groups are equal with a significance level of 0.01.\n",
    "\n",
    "# Q17. A marketing company wants to estimate the average number of ads watched by viewers during a TV \n",
    "# program. They take a random sample of 50 viewers and find that the sample mean is 4 with a standard \n",
    "# deviation of 1.5. Estimate the population mean with a 99% confidence interval."
   ]
  },
  {
   "cell_type": "code",
   "execution_count": 2,
   "id": "d0330534-4038-4233-97f5-5e1b8cb23aad",
   "metadata": {},
   "outputs": [],
   "source": [
    "# Estimation statistics is a branch of statistics that deals with estimating unknown population parameters based on sample data. In estimation statistics, \n",
    "# we use sample statistics to estimate the corresponding population parameters.\n",
    "\n",
    "# There are two types of estimation in statistics: point estimation and interval estimation.\n",
    "\n",
    "# Point estimation involves using a single value to estimate an unknown population parameter. This value is typically the sample statistic that is the best estimate of the population parameter of interest. \n",
    "# For example, if we want to estimate the population mean, we can use the sample mean as our point estimate. A point estimate is a single value that is used to estimate the population parameter.\n",
    "\n",
    "# Interval estimation, on the other hand, involves estimating an unknown population parameter by specifying a range of values that is likely to contain the true population parameter \n",
    "# with a certain level of confidence. This range of values is called a confidence interval. Confidence intervals are based on the sample statistic and the variability of the sample. \n",
    "# The level of confidence refers to the probability that the true population parameter falls within the confidence interval.\n",
    "# For example, a 95% confidence interval for the population mean specifies a range of values that, with 95% confidence, contains the true population mean.\n",
    "\n",
    "# In summary, estimation statistics is a branch of statistics that deals with estimating unknown population parameters based on sample data. \n",
    "# Point estimation involves using a single value to estimate the population parameter, while interval estimation involves specifying a range of values that is likely to contain the true population parameter \n",
    "# with a certain level of confidence"
   ]
  },
  {
   "cell_type": "code",
   "execution_count": 3,
   "id": "dc7ddab8-15e1-4344-9409-06b6fb147513",
   "metadata": {},
   "outputs": [],
   "source": [
    "# Q2. Write a Python function to estimate the population mean using a sample mean and standard \n",
    "# deviation."
   ]
  },
  {
   "cell_type": "code",
   "execution_count": 4,
   "id": "fe62d6ec-10c2-4d92-af50-6178cf369c83",
   "metadata": {},
   "outputs": [],
   "source": [
    "def estimate_population_mean(sample_mean, sample_std, sample_size):\n",
    "    import math\n",
    "    standard_error = sample_std / math.sqrt(sample_size)\n",
    "    margin_of_error = 1.96 * standard_error  # using the 95% confidence level z-score\n",
    "    lower_bound = sample_mean - margin_of_error\n",
    "    upper_bound = sample_mean + margin_of_error\n",
    "    return (lower_bound, upper_bound)\n"
   ]
  },
  {
   "cell_type": "code",
   "execution_count": 5,
   "id": "096eb03d-5508-4f75-89ea-c2d81620539a",
   "metadata": {},
   "outputs": [
    {
     "data": {
      "text/plain": [
       "(99.608, 100.392)"
      ]
     },
     "execution_count": 5,
     "metadata": {},
     "output_type": "execute_result"
    }
   ],
   "source": [
    "estimate_population_mean(100, 4, 400)"
   ]
  },
  {
   "cell_type": "code",
   "execution_count": 6,
   "id": "52fe469f-2f93-413d-b541-c59c082c9ec2",
   "metadata": {},
   "outputs": [],
   "source": [
    "# Q3: What is Hypothesis testing? Why is it used? State the importance of Hypothesis testing."
   ]
  },
  {
   "cell_type": "code",
   "execution_count": 7,
   "id": "36234e62-3b60-491c-bff9-ed7f09ea50c1",
   "metadata": {},
   "outputs": [],
   "source": [
    "# Hypothesis testing is a statistical method used to evaluate two competing hypotheses about a population parameter, based on a sample of data. \n",
    "# The two hypotheses are called the null hypothesis and the alternative hypothesis. The null hypothesis is the default assumption that there is no significant difference between \n",
    "# the parameter and a specified value. The alternative hypothesis is the alternative to the null hypothesis, which may state that there is a significant difference between the parameter and the specified value.\n",
    "\n",
    "# Hypothesis testing is used to make decisions about population parameters based on a sample of data. It involves comparing the observed data to what would be expected under the null hypothesis. \n",
    "# If the observed data is unlikely to have occurred if the null hypothesis were true, we reject the null hypothesis in favor of the alternative hypothesis.\n",
    "\n",
    "# The importance of hypothesis testing lies in its ability to provide a structured and objective approach to decision making based on data. By setting up a clear null hypothesis and alternative hypothesis, \n",
    "# and defining a significance level or critical value, hypothesis testing allows us to make decisions based on evidence rather than intuition or personal biases.\n",
    "\n",
    "# Hypothesis testing is used in many areas of research, including medicine, social sciences, engineering, and finance. For example, in medical research, \n",
    "# hypothesis testing may be used to evaluate whether a new drug is effective in treating a disease. In social sciences, \n",
    "# hypothesis testing may be used to evaluate the effectiveness of an intervention in improving outcomes for a particular population.\n",
    "\n",
    "# ********************************************\n",
    "\n",
    "# Overall, hypothesis testing is a powerful tool for making decisions based on data, and plays an important role in scientific research and evidence-based decision making."
   ]
  },
  {
   "cell_type": "code",
   "execution_count": 8,
   "id": "300c42ea-7646-431a-ba69-08340a9b2855",
   "metadata": {},
   "outputs": [],
   "source": [
    "# Q4. Create a hypothesis that states whether the average weight of male college students is greater than \n",
    "# the average weight of female college students."
   ]
  },
  {
   "cell_type": "code",
   "execution_count": 9,
   "id": "74d5b3d1-514a-438b-8acd-1bd01278af03",
   "metadata": {},
   "outputs": [],
   "source": [
    "# The null hypothesis for this hypothesis test would be:\n",
    "\n",
    "# H0: The average weight of male college students is equal to or less than the average weight of female college students.\n",
    "\n",
    "# The alternative hypothesis would be:\n",
    "\n",
    "# Ha: The average weight of male college students is greater than the average weight of female college students.\n",
    "\n",
    "# To conduct this hypothesis test, we would need to collect a sample of male and female college students and record their weights. \n",
    "# We would then calculate the sample mean weight for each group and conduct a statistical test to determine whether the observed difference in sample means is statistically significant.\n",
    "\n",
    "# It is important to note that the formulation of the null and alternative hypotheses should be based on prior knowledge or assumptions about the population being studied, \n",
    "# as well as the research question being asked. The hypotheses should be clearly stated and testable through data analysis."
   ]
  },
  {
   "cell_type": "code",
   "execution_count": 10,
   "id": "0ec5c998-18ee-4395-ab46-a5aaf4bd5ca6",
   "metadata": {},
   "outputs": [],
   "source": [
    "# Q5. Write a Python script to conduct a hypothesis test on the difference between two population means, \n",
    "# given a sample from each population."
   ]
  },
  {
   "cell_type": "code",
   "execution_count": 14,
   "id": "03e09a93-bf03-4dcd-9b24-2b1aafea402c",
   "metadata": {},
   "outputs": [
    {
     "name": "stdout",
     "output_type": "stream",
     "text": [
      "Sample 1 mean:  13.4\n",
      "Sample 2 mean:  11\n",
      "Sample 1 standard deviation:  2.4083189157584592\n",
      "Sample 2 standard deviation:  2.5495097567963922\n",
      "T-statistic:  1.530184111352012\n",
      "P-value:  0.1645010149257441\n"
     ]
    }
   ],
   "source": [
    "import statistics as stats\n",
    "import scipy.stats as sp\n",
    "\n",
    "# Define the sample data\n",
    "sample1 = [10, 12, 14, 15, 16]\n",
    "sample2 = [8, 9, 11, 13, 14]\n",
    "\n",
    "# Calculate the sample means and standard deviations\n",
    "mean1 = stats.mean(sample1)\n",
    "mean2 = stats.mean(sample2)\n",
    "std1 = stats.stdev(sample1)\n",
    "std2 = stats.stdev(sample2)\n",
    "\n",
    "# Calculate the t-statistic and p-value\n",
    "t_statistic, p_value = sp.ttest_ind(sample1, sample2)\n",
    "\n",
    "# Print the results\n",
    "print(\"Sample 1 mean: \", mean1)\n",
    "print(\"Sample 2 mean: \", mean2)\n",
    "print(\"Sample 1 standard deviation: \", std1)\n",
    "print(\"Sample 2 standard deviation: \", std2)\n",
    "print(\"T-statistic: \", t_statistic)\n",
    "print(\"P-value: \", p_value)\n"
   ]
  },
  {
   "cell_type": "code",
   "execution_count": 15,
   "id": "02c73e5c-64f1-4816-8ea1-a0fa44e5dd4a",
   "metadata": {},
   "outputs": [],
   "source": [
    "# Q6: What is a null and alternative hypothesis? Give some examples."
   ]
  },
  {
   "cell_type": "code",
   "execution_count": 16,
   "id": "01e594ae-bc48-4422-b23a-5532bd43680a",
   "metadata": {},
   "outputs": [],
   "source": [
    "# In statistics, a hypothesis is a statement that we make about a population parameter, based on available sample data. There are two types of hypotheses: \n",
    "# the null hypothesis and the alternative hypothesis.\n",
    "\n",
    "# The null hypothesis (H0) is the hypothesis that there is no significant difference between a population parameter and a sample statistic, or that any observed difference is due to chance. \n",
    "# It is usually denoted as \"no difference\" or \"no effect\". The null hypothesis is the hypothesis we aim to reject if we want to support the alternative hypothesis.\n",
    "\n",
    "# The alternative hypothesis (Ha) is the hypothesis that there is a significant difference between a population parameter and a sample statistic, or that any observed difference is not due to chance. \n",
    "# It is usually denoted as \"difference\" or \"effect\". The alternative hypothesis is the hypothesis we want to support if we reject the null hypothesis.\n",
    "\n",
    "# Here are some examples of null and alternative hypotheses:\n",
    "\n",
    "# Example 1: A researcher wants to test whether a new drug is effective in reducing the symptoms of a disease. The null hypothesis would be \"the new drug has no effect on the symptoms of the disease\",\n",
    "# while the alternative hypothesis would be \"the new drug reduces the symptoms of the disease\".\n",
    "\n",
    "# Example 2: A company wants to test whether a new product is more effective than an existing product. The null hypothesis would be \"there is no difference in effectiveness between the new product and \n",
    "# the existing product\", while the alternative hypothesis would be \"the new product is more effective than the existing product\".\n",
    "\n",
    "# Example 3: A scientist wants to test whether the mean height of a population of plants is different from a certain value. The null hypothesis would be \"the mean height of the population is equal to \n",
    "# the specified value\", while the alternative hypothesis would be \"the mean height of the population is not equal to the specified value\"."
   ]
  },
  {
   "cell_type": "code",
   "execution_count": 17,
   "id": "9a58c872-de62-42ec-a7eb-47c6e5bc32d7",
   "metadata": {},
   "outputs": [],
   "source": [
    "# Q7: Write down the steps involved in hypothesis testing."
   ]
  },
  {
   "cell_type": "code",
   "execution_count": 18,
   "id": "29cc410e-7869-4b6c-b02e-458a630b3633",
   "metadata": {},
   "outputs": [],
   "source": [
    "# Hypothesis testing is a statistical method for making decisions about the value of a population parameter based on sample data. The following are the general steps involved in hypothesis testing:\n",
    "\n",
    "# State the null hypothesis (H0) and alternative hypothesis (Ha) based on the research question or problem.\n",
    "\n",
    "# Choose an appropriate statistical test based on the type of data and research question. For example, if the research question involves comparing means of two groups, a two-sample t-test may be appropriate.\n",
    "\n",
    "# Determine the level of significance (alpha) for the test, typically set at 0.05 or 0.01.\n",
    "\n",
    "# Collect the sample data and calculate the relevant test statistic (e.g., t-statistic, z-score, F-statistic).\n",
    "\n",
    "# Determine the p-value for the test statistic, which represents the probability of observing a test statistic as extreme or more extreme than the one observed, assuming the null hypothesis is true.\n",
    "\n",
    "# Compare the p-value to the level of significance (alpha) and decide whether to reject or fail to reject the null hypothesis. If the p-value is less than or equal to the alpha level,\n",
    "# reject the null hypothesis in favor of the alternative hypothesis. If the p-value is greater than the alpha level, fail to reject the null hypothesis.\n",
    "\n",
    "# Interpret the results and draw conclusions based on the decision made in step 6. If the null hypothesis is rejected, conclude that there is evidence to support the alternative hypothesis. \n",
    "# If the null hypothesis is not rejected, conclude that there is not enough evidence to support the alternative hypothesis.\n",
    "\n",
    "# Finally, report the results, including the test statistic, p-value, decision, and conclusion, in a clear and concise manner."
   ]
  },
  {
   "cell_type": "code",
   "execution_count": 19,
   "id": "a794cf50-5f73-45c1-95a7-1ebe4480d53b",
   "metadata": {},
   "outputs": [],
   "source": [
    "# Q8. Define p-value and explain its significance in hypothesis testing."
   ]
  },
  {
   "cell_type": "code",
   "execution_count": 20,
   "id": "748b4f7c-2d7d-4fe6-8fe9-66c2fd6a992a",
   "metadata": {},
   "outputs": [],
   "source": [
    "# The p-value is a probability value that measures the strength of evidence against the null hypothesis in hypothesis testing. \n",
    "# It represents the probability of observing a test statistic as extreme or more extreme than the one observed, assuming the null hypothesis is true. \n",
    "# In other words, it tells us how likely we are to observe the sample data, or data more extreme, under the assumption that the null hypothesis is true.\n",
    "\n",
    "# The significance of the p-value in hypothesis testing is that it allows us to make a decision about whether to reject or fail to reject the null hypothesis. \n",
    "# If the p-value is less than or equal to the level of significance (alpha), we reject the null hypothesis and conclude that there is sufficient evidence to support the alternative hypothesis. \n",
    "# If the p-value is greater than the level of significance, we fail to reject the null hypothesis and conclude that there is not enough evidence to support the alternative hypothesis.\n",
    "\n",
    "# The level of significance is typically set at 0.05 or 0.01, which means that if the p-value is less than or equal to 0.05 or 0.01, the null hypothesis is rejected in favor of the alternative hypothesis.\n",
    "# The smaller the p-value, the stronger the evidence against the null hypothesis and the more confident we can be in rejecting it.\n",
    "\n",
    "# It is important to note that the p-value does not tell us the probability of the null hypothesis being true or false, nor does it tell us the size or importance of the effect. \n",
    "# It only provides information about the strength of evidence against the null hypothesis based on the sample data. Therefore, \n",
    "# it is important to interpret the p-value in conjunction with other factors, such as effect size, sample size, and study design, when making conclusions about the research question."
   ]
  },
  {
   "cell_type": "code",
   "execution_count": 21,
   "id": "907a5cc6-8ecc-419a-8527-748bf8d6d302",
   "metadata": {},
   "outputs": [],
   "source": [
    "# Q9. Generate a Student's t-distribution plot using Python's matplotlib library, with the degrees of freedom \n",
    "# parameter set to 10."
   ]
  },
  {
   "cell_type": "code",
   "execution_count": 22,
   "id": "56bc38ab-8c0e-40ef-b222-ace37cfdbd86",
   "metadata": {},
   "outputs": [
    {
     "data": {
      "image/png": "[encoded data removed]",
      "text/plain": [
       "<Figure size 640x480 with 1 Axes>"
      ]
     },
     "metadata": {},
     "output_type": "display_data"
    }
   ],
   "source": [
    "import numpy as np\n",
    "import matplotlib.pyplot as plt\n",
    "from scipy.stats import t\n",
    "\n",
    "df = 10  # degrees of freedom\n",
    "x = np.linspace(t.ppf(0.01, df), t.ppf(0.99, df), 100)  # create x-values for the plot\n",
    "y = t.pdf(x, df)  # calculate y-values using the probability density function\n",
    "\n",
    "plt.plot(x, y)\n",
    "plt.title(\"Student's t-distribution with df = 10\")\n",
    "plt.xlabel('x')\n",
    "plt.ylabel('Probability density')\n",
    "plt.show()\n"
   ]
  },
  {
   "cell_type": "code",
   "execution_count": 23,
   "id": "fac485dc-2f54-468f-ba80-90609578288a",
   "metadata": {},
   "outputs": [],
   "source": [
    "# Q10. Write a Python program to calculate the two-sample t-test for independent samples, given two \n",
    "# random samples of equal size and a null hypothesis that the population means are equal."
   ]
  },
  {
   "cell_type": "code",
   "execution_count": 27,
   "id": "0ec097eb-9ce9-46b6-b9b6-55eca183dfd4",
   "metadata": {},
   "outputs": [
    {
     "name": "stdout",
     "output_type": "stream",
     "text": [
      "T-Statistic: -5.537863268549112\n",
      "P-Value: 9.656227114560636e-08\n",
      "Reject null hypothesis\n"
     ]
    }
   ],
   "source": [
    "import scipy.stats as stats\n",
    "import numpy as np\n",
    "\n",
    "# Generate two random samples of equal size\n",
    "sample1 = np.random.normal(5, 2, 100)\n",
    "sample2 = np.random.normal(6, 2, 100)\n",
    "\n",
    "# Calculate the t-statistic and p-value\n",
    "t_statistic, p_value = stats.ttest_ind(sample1, sample2)\n",
    "\n",
    "# Print the results\n",
    "print('T-Statistic:', t_statistic)\n",
    "print('P-Value:', p_value)\n",
    "\n",
    "# Check if the p-value is less than the significance level (e.g., 0.05) and reject the null hypothesis if it is\n",
    "alpha = 0.05\n",
    "if p_value < alpha:\n",
    "    print('Reject null hypothesis')\n",
    "else:\n",
    "    print('Fail to reject null hypothesis')\n"
   ]
  },
  {
   "cell_type": "code",
   "execution_count": 28,
   "id": "13206392-2ec3-4307-8ba0-d5fd9c74722e",
   "metadata": {},
   "outputs": [],
   "source": [
    "# Q11: What is Student’s t distribution? When to use the t-Distribution."
   ]
  },
  {
   "cell_type": "code",
   "execution_count": 29,
   "id": "a6198c48-a03e-4e26-a225-e44a88106f57",
   "metadata": {},
   "outputs": [],
   "source": [
    "# Student's t-distribution, also known as the t-distribution, is a probability distribution used in statistical inference for hypothesis testing and confidence \n",
    "# interval estimation when the sample size is small or the population standard deviation is unknown.\n",
    "\n",
    "# The t-distribution is similar in shape to the standard normal distribution but has heavier tails, which means it has more probability in \n",
    "# the tails than the normal distribution. The shape of the t-distribution changes depending on the degrees of freedom (df), which is determined by the sample size. \n",
    "# As the sample size increases, the t-distribution approaches the normal distribution.\n",
    "\n",
    "# The t-distribution is used instead of the normal distribution when the sample size is small (less than 30) or when the population standard deviation is unknown. \n",
    "# In these cases, the sample standard deviation is used as an estimate of the population standard deviation, \n",
    "# and the t-distribution is used to calculate the test statistic and critical values. \n",
    "# The t-distribution provides a more conservative estimate of the p-value compared to the normal distribution, \n",
    "# which accounts for the uncertainty in the estimate of the population standard deviation."
   ]
  },
  {
   "cell_type": "code",
   "execution_count": 30,
   "id": "ccfb35bc-adeb-4f05-8d23-482a783f59bd",
   "metadata": {},
   "outputs": [],
   "source": [
    "# Q12: What is t-statistic? State the formula for t-statistic."
   ]
  },
  {
   "cell_type": "code",
   "execution_count": 31,
   "id": "e384ce94-0e2c-4c8b-8dff-eb8afc314de2",
   "metadata": {},
   "outputs": [],
   "source": [
    "# The t-statistic is a measure of the difference between a sample mean and a population mean, in terms of the standard error of the sample mean.\n",
    "# It is used in hypothesis testing to determine whether a sample mean is significantly different from a hypothesized population mean.\n",
    "\n",
    "# The formula for the t-statistic is:\n",
    "\n",
    "# t = (x̄ - μ) / (s / √n)\n",
    "\n",
    "# where:\n",
    "# x̄ = sample mean\n",
    "# μ = hypothesized population mean\n",
    "# s = standard deviation of the sample\n",
    "# n = sample size\n",
    "\n",
    "# The t-statistic measures how many standard errors the sample mean is away from the hypothesized population mean. \n",
    "# If the absolute value of the t-statistic is greater than a critical value (which depends on the sample size and level of significance),\n",
    "# then we reject the null hypothesis that the sample mean is not significantly different from the population mean."
   ]
  },
  {
   "cell_type": "code",
   "execution_count": 32,
   "id": "c3b9dc49-df07-4af6-b22e-0635b26f3d3b",
   "metadata": {},
   "outputs": [],
   "source": [
    "# Q13. A coffee shop owner wants to estimate the average daily revenue for their shop. They take a random \n",
    "# sample of 50 days and find the sample mean revenue to be $500 with a standard deviation of $50. \n",
    "# Estimate the population mean revenue with a 95% confidence interval."
   ]
  },
  {
   "cell_type": "code",
   "execution_count": 33,
   "id": "77ae5171-0063-4e7d-9aaa-a71f03911913",
   "metadata": {},
   "outputs": [],
   "source": [
    "# we have a sample size of 50, which is considered large, we can use the following formula:\n",
    "\n",
    "# CI = x̄ ± z_(α/2) * (σ/√n)\n",
    "\n",
    "# where:\n",
    "# x̄ = sample mean revenue = $500\n",
    "# σ = population standard deviation (unknown)\n",
    "# n = sample size = 50\n",
    "# z_(α/2) = z-score for the given level of confidence\n",
    "\n",
    "# To find the z-score for a 95% confidence level, we can use a standard normal distribution table or a statistical calculator, and we get z_(0.025) = 1.96.\n",
    "\n",
    "# Then we can plug in the values to get the confidence interval:\n",
    "\n",
    "# CI = 500 ± 1.96 * (σ/√50)\n",
    "\n",
    "# We don't know the population standard deviation, so we can use the sample standard deviation as an estimate, which gives us:\n",
    "\n",
    "# CI = 500 ± 1.96 * (50/√50)\n",
    "# CI = 500 ± 13.96\n",
    "# CI = (486.04, 513.96)\n",
    "\n",
    "# Therefore, we can say with 95% confidence that the true population mean revenue is between $486.04 and $513.96."
   ]
  },
  {
   "cell_type": "code",
   "execution_count": 34,
   "id": "e2ae7d01-b13b-452c-ad3b-932ba17c020c",
   "metadata": {},
   "outputs": [],
   "source": [
    "# Q14. A researcher hypothesizes that a new drug will decrease blood pressure by 10 mmHg. They conduct a \n",
    "# clinical trial with 100 patients and find that the sample mean decrease in blood pressure is 8 mmHg with a \n",
    "# standard deviation of 3 mmHg. Test the hypothesis with a significance level of 0.05."
   ]
  },
  {
   "cell_type": "code",
   "execution_count": 35,
   "id": "3c4015b3-18e5-4644-b15b-f51ecc50e167",
   "metadata": {},
   "outputs": [],
   "source": [
    "# To test the hypothesis that the new drug will decrease blood pressure by 10 mmHg with a significance level of 0.05, \n",
    "# we can use a one-sample t-test. The null and alternative hypotheses are:\n",
    "\n",
    "# Null hypothesis (H0): The true population mean decrease in blood pressure is not significantly different from 10 mmHg.\n",
    "# Alternative hypothesis (Ha): The true population mean decrease in blood pressure is significantly less than 10 mmHg.\n",
    "\n",
    "# We can calculate the t-statistic using the following formula:\n",
    "\n",
    "# t = (x̄ - μ) / (s / √n)\n",
    "\n",
    "# where:\n",
    "# x̄ = sample mean decrease in blood pressure = 8 mmHg\n",
    "# μ = hypothesized population mean decrease in blood pressure = 10 mmHg\n",
    "# s = sample standard deviation = 3 mmHg\n",
    "# n = sample size = 100\n",
    "\n",
    "# t = (8 - 10) / (3 / √100)\n",
    "# t = -2 * (1/3)\n",
    "# t = -0.67\n",
    "\n",
    "# The t-value for a one-tailed test with 99 degrees of freedom (n-1) and a significance level of 0.05 is -1.66 (from a t-table or statistical calculator).\n",
    "\n",
    "# Since the calculated t-value (-0.67) is greater than the critical t-value (-1.66), we fail to reject the null hypothesis. \n",
    "# Therefore, we do not have sufficient evidence to conclude that the new drug significantly decreases blood pressure by 10 mmHg. \n",
    "# It is possible that the true population mean decrease in blood pressure is not significantly different \n",
    "# from 10 mmHg or that the sample size is too small to detect a significant difference."
   ]
  },
  {
   "cell_type": "code",
   "execution_count": 36,
   "id": "1c645d84-c183-4dd0-8566-2530902cd7c3",
   "metadata": {},
   "outputs": [],
   "source": [
    "# Q15. An electronics company produces a certain type of product with a mean weight of 5 pounds and a \n",
    "# standard deviation of 0.5 pounds. A random sample of 25 products is taken, and the sample mean weight \n",
    "# is found to be 4.8 pounds. Test the hypothesis that the true mean weight of the products is less than 5 \n",
    "# pounds with a significance level of 0.01."
   ]
  },
  {
   "cell_type": "code",
   "execution_count": 37,
   "id": "db5db12c-eb13-4707-9c8c-22491a9f1023",
   "metadata": {},
   "outputs": [],
   "source": [
    "# To test the hypothesis that the true mean weight of the products is less than 5 pounds, we will use a one-tailed t-test.\n",
    "\n",
    "# Let's first state the null and alternative hypotheses:\n",
    "\n",
    "# Null hypothesis: The true mean weight of the products is equal to 5 pounds.\n",
    "# Alternative hypothesis: The true mean weight of the products is less than 5 pounds.\n",
    "\n",
    "# The significance level is 0.01, which means that we need to find the critical t-value for a one-tailed test\n",
    "# with 24 degrees of freedom and a significance level of 0.01. Using a t-table or a statistical software, we can find that the critical t-value is -2.492.\n",
    "\n",
    "# Next, we need to calculate the t-value using the formula:\n",
    "\n",
    "# t = (x̄ - μ) / (s / sqrt(n))\n",
    "\n",
    "# where x̄ is the sample mean weight (4.8 pounds), μ is the hypothesized population mean weight (5 pounds), \n",
    "# s is the sample standard deviation (0.5 pounds), and n is the sample size (25).\n",
    "\n",
    "# Plugging in the values, we get:\n",
    "\n",
    "# t = (4.8 - 5) / (0.5 / sqrt(25)) = -2\n",
    "\n",
    "# The calculated t-value is -2, which is less than the critical t-value of -2.492. \n",
    "# Therefore, we reject the null hypothesis and conclude that the true mean weight of the products is less than 5 pounds at the 0.01 level of significance."
   ]
  },
  {
   "cell_type": "code",
   "execution_count": 38,
   "id": "9acfa8ca-5988-468c-ab13-bb1eb0672696",
   "metadata": {},
   "outputs": [],
   "source": [
    "# Q16. Two groups of students are given different study materials to prepare for a test. The first group (n1 = \n",
    "# 30) has a mean score of 80 with a standard deviation of 10, and the second group (n2 = 40) has a mean \n",
    "# score of 75 with a standard deviation of 8. Test the hypothesis that the population means for the two \n",
    "# groups are equal with a significance level of 0.01."
   ]
  },
  {
   "cell_type": "code",
   "execution_count": null,
   "id": "124bd478-c1a3-4788-a9f7-8638682e28c0",
   "metadata": {},
   "outputs": [],
   "source": []
  },
  {
   "cell_type": "code",
   "execution_count": 39,
   "id": "475ef177-068b-4efa-9779-dbad1df5ccea",
   "metadata": {},
   "outputs": [],
   "source": [
    "# Q17. A marketing company wants to estimate the average number of ads watched by viewers during a TV \n",
    "# program. They take a random sample of 50 viewers and find that the sample mean is 4 with a standard \n",
    "# deviation of 1.5. Estimate the population mean with a 99% confidence interval."
   ]
  },
  {
   "cell_type": "code",
   "execution_count": null,
   "id": "8d2989eb-d87c-474e-b863-8a7359ea08df",
   "metadata": {},
   "outputs": [],
   "source": [
    "# To estimate the population mean with a 99% confidence interval, we can use the following formula:\n",
    "\n",
    "# Confidence interval = sample mean ± margin of error\n",
    "\n",
    "# where the margin of error is given by:\n",
    "\n",
    "# Margin of error = z * (standard deviation / sqrt(sample size))\n",
    "\n",
    "# Here, we are given:\n",
    "\n",
    "# Sample size (n) = 50\n",
    "# Sample mean (x̄) = 4\n",
    "# Standard deviation (s) = 1.5\n",
    "\n",
    "# To find the margin of error, we need to first determine the z-score corresponding to a 99% confidence level. \n",
    "# From a standard normal distribution table or calculator, we find that the z-score for a 99% confidence level is 2.576.\n",
    "\n",
    "# Substituting the values in the formula for the margin of error, we get:\n",
    "\n",
    "# Margin of error = 2.576 * (1.5 / sqrt(50)) = 0.551\n",
    "\n",
    "# Now, we can find the lower and upper bounds of the confidence interval:\n",
    "\n",
    "# Lower bound = sample mean - margin of error = 4 - 0.551 = 3.449\n",
    "# Upper bound = sample mean + margin of error = 4 + 0.551 = 4.551\n",
    "\n",
    "# Therefore, we can estimate with 99% confidence that the population mean number of ads watched by viewers during a TV program is between 3.449 and 4.551."
   ]
  }
 ],
 "metadata": {
  "kernelspec": {
   "display_name": "Python 3 (ipykernel)",
   "language": "python",
   "name": "python3"
  },
  "language_info": {
   "codemirror_mode": {
    "name": "ipython",
    "version": 3
   },
   "file_extension": ".py",
   "mimetype": "text/x-python",
   "name": "python",
   "nbconvert_exporter": "python",
   "pygments_lexer": "ipython3",
   "version": "3.10.8"
  }
 },
 "nbformat": 4,
 "nbformat_minor": 5
}
